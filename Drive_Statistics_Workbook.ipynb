{
  "cells": [
    {
      "cell_type": "code",
      "metadata": {
        "id": "gorgeous-people",
        "cell_id": "00000-4cfed8d4-ac5c-43e7-acfb-1041c686dae4",
        "deepnote_to_be_reexecuted": false,
        "source_hash": "961a854d",
        "execution_millis": 1,
        "execution_start": 1616692956514,
        "deepnote_cell_type": "code"
      },
      "source": "import random\nrandom.seed(0)\nimport pandas as pd\nimport numpy as np\nnp.random.seed(0)\nfrom scipy import stats\nimport seaborn as sns\nimport matplotlib.pyplot as plt\nfrom IPython.display import YouTubeVideo",
      "execution_count": 37,
      "outputs": []
    },
    {
      "cell_type": "markdown",
      "source": "# Super Statistics\n\nThis lesson is designed to orient you to statistical thinking and give you practice with Python's statistics library (`scipy`).\n\nThe assignment will be a mixture of reading informative pages, watching videos, and answering questions. Please do your best and seek help as needed!\n\n### Learning Goals\n\nBy the end of the lesson, students should be able to:\n\n* Part 1\n    * Explain the concept of probability vs. statistics\n* Part 2\n    * Generate data using a distribution function from `scipy`\n* Part 3\n    * Given a dataset, generate and interpret appropriate summary statistics using `scipy`\n    * Classify data as continuous, categorical, or binary\n    * Differentiate between paired and unpaired data\n    * Apply logarithms to manipulate a distribution\n* Part 4\n    * Determine the distribution of a dataset using `scipy`\n    * Describe and justify the use of parameteric vs. non-parameteric statistics\n* Part 5\n    * Create and interpret a statistical hypothesis\n    * Given a dataset, perform and interpret correlation analysis using `scipy`\n    * Given a hypothesis and dataset, perform and interpret an appropriate statistical test using `scipy`\n    * Explain the concept of statistical significance\n* Part 6\n    * Describe and explain the purpose of effect sizes\n    * Calculate an effect size\n\n### Caveat\n\nI want to start by admitting that I am not as good at statistics as I am at Computer Science. I did distinctly *okay* in my undergraduate statistics class. I would even say that I didn't genuinely learn statistics until I got to graduate school, and had my own datasets. However, that was the turning point - I suddenly understood things so much better when I had a context I cared about. Context is key to learning - I believe statistics is very challenging for many folks because they don't see how it applies to things they are interested in.\n\nYou might walk into this assignment with more statistics knowledge than me, or alternatively you might be a complete novice. Either way, I'd like to make sure everyone leaves the assignment better than they were. This will probably include me, Dr. Bart. If you identify mistakes or errors, don't be afraid to raise them up in the Discord or the Ohyay. I am only human, this assignment was created in a single day, and I don't have a huge background in statistics. Errors or even misconceptions are likely! I'd rather we all collaboratively improve, then have been right.\n\n# Part 1) Basic Statistics\n\nWatch the following video, and then answer the following questions below.\n\n<https://youtu.be/PufDBlSsqys>",
      "metadata": {
        "id": "green-activity",
        "cell_id": "00001-cb5da23f-51fb-41b9-b2dc-cd403c5c5980",
        "deepnote_cell_type": "markdown"
      }
    },
    {
      "cell_type": "markdown",
      "source": "#### Q1.1)\nWhat is the difference between probablity and statistics? Define both terms clearly, especially in terms of their different goals.",
      "metadata": {
        "id": "powered-floating",
        "cell_id": "00002-215f463b-eb7a-49de-8221-606929cd5ad3",
        "deepnote_cell_type": "markdown"
      }
    },
    {
      "cell_type": "markdown",
      "source": "Probability deals with theoretical scenarios. Statistics includes analyzing experimentally-gathered data.\nAssumed probablity is based on of a model of a scenario. Experimental probability calculates chances based on experimental data and models. ",
      "metadata": {
        "id": "cheap-terminal",
        "cell_id": "00003-d9a90481-a34a-4ad7-8aa4-07c598cc0381",
        "deepnote_cell_type": "markdown"
      }
    },
    {
      "cell_type": "markdown",
      "source": "# Part 2) Distributions\n\n#### Q2.1)\n\nIn statistics, what is a \"Random Variable\"? How is it different from an Algebraic Variable or a Computer Science Variable?",
      "metadata": {
        "id": "searching-rachel",
        "cell_id": "00004-ea6600ac-da2c-4559-9b91-9dbf563dd497",
        "deepnote_cell_type": "markdown"
      }
    },
    {
      "cell_type": "markdown",
      "source": "A variable whose value depends on the possible outcomes of a random event. It is based on a random event, as opposed to a function that takes in an input and produces an output. ",
      "metadata": {
        "id": "twenty-finland",
        "cell_id": "00005-376973e0-0173-46e7-9706-85caafda11ed",
        "deepnote_cell_type": "markdown"
      }
    },
    {
      "cell_type": "markdown",
      "source": "#### Q2.2)\nIn statistics, what is a \"Probability Distribution\"?",
      "metadata": {
        "id": "environmental-alias",
        "cell_id": "00006-2ffc75e9-412e-4693-bc35-33a4967b7164",
        "deepnote_cell_type": "markdown"
      }
    },
    {
      "cell_type": "markdown",
      "source": "The probability distribution is the probabilities associated with the possible values of a random variable.",
      "metadata": {
        "id": "deadly-smooth",
        "cell_id": "00007-de549725-9df6-493f-905b-539156b70006",
        "deepnote_cell_type": "markdown"
      }
    },
    {
      "cell_type": "markdown",
      "source": "#### Q2.3)\n\nIn Discrete Math, what is a \"Function\"?",
      "metadata": {
        "id": "pending-spirituality",
        "cell_id": "00008-0601995c-f050-48d9-bca0-d977ef6b0836",
        "deepnote_cell_type": "markdown"
      }
    },
    {
      "cell_type": "markdown",
      "source": "A function in discrete math maps each element of a set to a unique element in a related set. ",
      "metadata": {
        "id": "e5FbghfWF2h7",
        "cell_id": "00009-ea171d00-3907-45fe-b734-2799cc0d1747",
        "deepnote_cell_type": "markdown"
      }
    },
    {
      "cell_type": "markdown",
      "source": "#### Q2.4)\n\nWhat is the relationship between a random variable and the concept of a \"nullary function\" like the following?",
      "metadata": {
        "id": "spectacular-restoration",
        "cell_id": "00010-eba4f370-79fb-4203-8e62-4d50552d21e1",
        "deepnote_cell_type": "markdown"
      }
    },
    {
      "cell_type": "code",
      "metadata": {
        "id": "vital-public",
        "colab": {
          "base_uri": "https://localhost:8080/"
        },
        "outputId": "71b99677-a993-4958-cbd6-afa305d61e88",
        "cell_id": "00011-b4b139c7-3152-42c0-9745-981158af1109",
        "deepnote_to_be_reexecuted": false,
        "source_hash": "731344bb",
        "execution_start": 1616691759827,
        "execution_millis": 47,
        "deepnote_cell_type": "code"
      },
      "source": "def X(): return random.randint(0, 10)\n\n[X() for i in range(10)]",
      "execution_count": 2,
      "outputs": [
        {
          "output_type": "execute_result",
          "execution_count": 2,
          "data": {
            "text/plain": "[6, 6, 0, 4, 8, 7, 6, 4, 7, 5]"
          },
          "metadata": {}
        }
      ]
    },
    {
      "cell_type": "markdown",
      "source": "A random variable does not require a function input and just happens based on real events, which is similar to a nullary function, which also does not require any inputs and just happens when it's called.",
      "metadata": {
        "id": "geological-arbor",
        "cell_id": "00012-e4ae68f4-b72d-40d3-b253-33650c8ce7c7",
        "deepnote_cell_type": "markdown"
      }
    },
    {
      "cell_type": "markdown",
      "source": "#### Q2.5) \nWhat is the relationship between a distribution and a function?",
      "metadata": {
        "id": "emotional-brown",
        "cell_id": "00013-42fb9b91-8330-4870-afef-75b3552da53f",
        "deepnote_cell_type": "markdown"
      }
    },
    {
      "cell_type": "markdown",
      "source": "How the values are distributed is what makes up a probability function. This is why it is called a \"pdf\" or probability distribution function. ",
      "metadata": {
        "id": "subsequent-collection",
        "cell_id": "00014-9ce3ad57-3f41-4cce-b1e1-752e6da850b9",
        "deepnote_cell_type": "markdown"
      }
    },
    {
      "cell_type": "markdown",
      "source": "Watch the following video about different probability distributions:\n\n<https://youtu.be/b9a27XN_6tg>",
      "metadata": {
        "id": "czech-aaron",
        "cell_id": "00015-631a9677-0893-4337-a4a4-79056c590098",
        "deepnote_cell_type": "markdown"
      }
    },
    {
      "cell_type": "markdown",
      "source": "#### Q2.6)\n\nFor each of the following probability distributions:\n\n1. Provide the name of the distribution\n2. Identify it as continuous, discrete, or both\n3. Provide a brief description of the distribution and what it is used for\n4. Find an example from the real world where this distribution occurs (not one presented in the video)\n5. Provide a link to the appropriate `scipy.stats` function\n6. Use the `scipy` module's distribution functions to create an visual example",
      "metadata": {
        "id": "rolled-portable",
        "cell_id": "00016-5761d544-45af-4b53-9bc5-d273e8e5d103",
        "deepnote_cell_type": "markdown"
      }
    },
    {
      "cell_type": "markdown",
      "source": "##### Uniform Distribution\n\n* Description: A random variable where all of outcomes are equally likely.\n* Kind: Can be both continuous or discrete\n* Example: Rolling a fair, six-sided die.\n* Link: [Continous](https://docs.scipy.org/doc/scipy/reference/generated/scipy.stats.uniform.html#scipy.stats.uniform), [Discrete](https://docs.scipy.org/doc/scipy/reference/generated/scipy.stats.randint.html)\n",
      "metadata": {
        "id": "joined-anderson",
        "cell_id": "00017-122a1d95-ba4d-4dd3-bb98-35c015159035",
        "deepnote_cell_type": "markdown"
      }
    },
    {
      "cell_type": "code",
      "metadata": {
        "id": "modified-leonard",
        "colab": {
          "base_uri": "https://localhost:8080/",
          "height": 281
        },
        "outputId": "5de40010-c53a-43ca-9e25-3d04dc941da2",
        "cell_id": "00018-cf3dff0d-65b3-418b-8f2a-70f482756448",
        "deepnote_to_be_reexecuted": false,
        "source_hash": "cd5c8900",
        "execution_start": 1616691759836,
        "execution_millis": 172,
        "deepnote_cell_type": "code"
      },
      "source": "random_variables = stats.uniform.rvs(size=10000)\nplt.hist(random_variables)\nplt.title(\"Randomly Generated Uniform Distribution\")\nplt.show()",
      "execution_count": 3,
      "outputs": [
        {
          "data": {
            "text/plain": "<Figure size 432x288 with 1 Axes>",
            "image/png": "[encoded data removed]"
          },
          "metadata": {
            "needs_background": "light"
          },
          "output_type": "display_data"
        }
      ]
    },
    {
      "cell_type": "markdown",
      "source": "##### Bernouli Distribution",
      "metadata": {
        "id": "focused-upgrade",
        "cell_id": "00019-70784d0c-c680-4acf-bb47-c5ef622c24b5",
        "deepnote_cell_type": "markdown"
      }
    },
    {
      "cell_type": "markdown",
      "source": "Description: A random variable with two possible outcomes, true or false\n\nKind: discrete\n\nExample: measuring if people prefer dogs or cats \n\nLink: [Discrete](https://docs.scipy.org/doc/scipy/reference/generated/scipy.stats.bernoulli.html)\n",
      "metadata": {
        "id": "employed-biology",
        "cell_id": "00020-f5795e6c-92db-48e1-b314-9dc50e1c035a",
        "deepnote_cell_type": "markdown"
      }
    },
    {
      "cell_type": "code",
      "metadata": {
        "id": "similar-proof",
        "colab": {
          "base_uri": "https://localhost:8080/",
          "height": 386
        },
        "outputId": "86e52525-76ee-46a3-e0c3-341fbd78e84e",
        "cell_id": "00021-ca31c710-dc0a-40ed-93df-d9db82c23675",
        "deepnote_to_be_reexecuted": false,
        "source_hash": "adf84c4a",
        "execution_start": 1616691760002,
        "execution_millis": 333,
        "deepnote_cell_type": "code"
      },
      "source": "random_variables = stats.bernoulli.rvs(size=5000, p=0.3)\nsns.displot(random_variables)",
      "execution_count": 4,
      "outputs": [
        {
          "output_type": "execute_result",
          "execution_count": 4,
          "data": {
            "text/plain": "<seaborn.axisgrid.FacetGrid at 0x7fdda75774d0>"
          },
          "metadata": {}
        },
        {
          "data": {
            "text/plain": "<Figure size 360x360 with 1 Axes>",
            "image/png": "[encoded data removed]"
          },
          "metadata": {
            "needs_background": "light"
          },
          "output_type": "display_data"
        }
      ]
    },
    {
      "cell_type": "markdown",
      "source": "##### Binomial Distribution",
      "metadata": {
        "id": "adverse-maximum",
        "cell_id": "00022-afcf55a2-80b5-4157-88a6-3dce7bcce906",
        "deepnote_cell_type": "markdown"
      }
    },
    {
      "cell_type": "markdown",
      "source": "Kind: Discrete\n\nDescription: It is used as n trials of a Bernoulli distribution, with a certain probability p.\n\nExample: Given probability p of wearing a red shirt, how many times I wear a red shirt in a week.\n\nLink: https://docs.scipy.org/doc/scipy/reference/generated/scipy.stats.binom.html",
      "metadata": {
        "id": "exempt-connectivity",
        "cell_id": "00023-961dae35-8dd0-4e3e-b660-3bee0a126b8b",
        "deepnote_cell_type": "markdown"
      }
    },
    {
      "cell_type": "code",
      "metadata": {
        "id": "international-eclipse",
        "colab": {
          "base_uri": "https://localhost:8080/",
          "height": 386
        },
        "outputId": "98d8fb81-b957-4db3-ffbf-2665563e429f",
        "cell_id": "00024-6bbf26d8-1064-452d-9609-686daeed001d",
        "deepnote_to_be_reexecuted": false,
        "source_hash": "5f8957d7",
        "execution_millis": 330,
        "execution_start": 1616693027914,
        "deepnote_cell_type": "code"
      },
      "source": "rand_vars = stats.binom.rvs(size=5000, p=0.3, n=50)\nsns.displot(rand_vars)",
      "execution_count": 41,
      "outputs": [
        {
          "output_type": "execute_result",
          "execution_count": 41,
          "data": {
            "text/plain": "<seaborn.axisgrid.FacetGrid at 0x7fdd93bb6890>"
          },
          "metadata": {}
        },
        {
          "data": {
            "text/plain": "<Figure size 360x360 with 1 Axes>",
            "image/png": "[encoded data removed]"
          },
          "metadata": {
            "needs_background": "light"
          },
          "output_type": "display_data"
        }
      ]
    },
    {
      "cell_type": "markdown",
      "source": "##### Poisson Distribution",
      "metadata": {
        "id": "middle-story",
        "cell_id": "00025-4e74e1f6-354e-4b3a-834b-fa41bca861dd",
        "deepnote_cell_type": "markdown"
      }
    },
    {
      "cell_type": "markdown",
      "source": "Description: predicts how often an event will occur in a given time frame \n\nKind: discrete\n\nExample: predicting number of car crashes at a specific intersection in 24 hours\n\nLink: https://docs.scipy.org/doc/scipy/reference/generated/scipy.stats.poisson.html ",
      "metadata": {
        "id": "indie-germany",
        "cell_id": "00026-8f00cfd7-1bc5-4dd4-9673-f7a073cbe4bd",
        "deepnote_cell_type": "markdown"
      }
    },
    {
      "cell_type": "code",
      "metadata": {
        "id": "regional-talent",
        "cell_id": "00027-45bda01c-9841-41f4-8d5c-c49da7ad52c9",
        "deepnote_to_be_reexecuted": false,
        "source_hash": "471872d5",
        "execution_millis": 114,
        "execution_start": 1616692245365,
        "deepnote_cell_type": "code"
      },
      "source": "# Poisson Probablilty Mass Function Plot\nxAxis = np.arange(0, 200, .8)\nyAxis = stats.poisson.pmf(xAxis, mu=40, loc=80)\nplt.plot(xAxis, yAxis)",
      "execution_count": 27,
      "outputs": [
        {
          "output_type": "execute_result",
          "execution_count": 27,
          "data": {
            "text/plain": "[<matplotlib.lines.Line2D at 0x7fdd95f88490>]"
          },
          "metadata": {}
        },
        {
          "data": {
            "text/plain": "<Figure size 432x288 with 1 Axes>",
            "image/png": "[encoded data removed]"
          },
          "metadata": {
            "needs_background": "light"
          },
          "output_type": "display_data"
        }
      ]
    },
    {
      "cell_type": "markdown",
      "source": "##### Normal Distribution",
      "metadata": {
        "id": "disturbed-magnitude",
        "cell_id": "00028-4676a872-7397-44e4-a023-79e588379b59",
        "deepnote_cell_type": "markdown"
      }
    },
    {
      "cell_type": "markdown",
      "source": "Kind: Can be Discrete or Continuous\n\nDescription: A bell curve where a heavy majority of values occur close to the mean, while less values occur farther away from the mean\n\nDiscrete Example: The distribution of dice rolls in a friendly game of Settlers of Catan with my brothers\n\nContinuous Example: The number of days it takes for symptoms of COVID to show up after exposure\n\nLink: https://docs.scipy.org/doc/scipy/reference/generated/scipy.stats.norm.html",
      "metadata": {
        "id": "personalized-niger",
        "cell_id": "00029-626f4848-f932-471b-9aaa-4efa31750f22",
        "deepnote_cell_type": "markdown"
      }
    },
    {
      "cell_type": "code",
      "metadata": {
        "id": "north-basics",
        "colab": {
          "base_uri": "https://localhost:8080/",
          "height": 180
        },
        "outputId": "8af6cbba-4236-4248-82b3-45388abc41e1",
        "cell_id": "00030-cc7d4831-b100-4b8b-9872-511ed5bd9703",
        "deepnote_to_be_reexecuted": false,
        "source_hash": "8e6f2417",
        "execution_millis": 359,
        "execution_start": 1616691897089,
        "deepnote_cell_type": "code"
      },
      "source": "norm_vars = stats.norm.rvs(0, 1, 5000)\nsns.displot(norm_vars)",
      "execution_count": 8,
      "outputs": [
        {
          "output_type": "execute_result",
          "execution_count": 8,
          "data": {
            "text/plain": "<seaborn.axisgrid.FacetGrid at 0x7fdda40a9f90>"
          },
          "metadata": {}
        },
        {
          "data": {
            "text/plain": "<Figure size 360x360 with 1 Axes>",
            "image/png": "[encoded data removed]"
          },
          "metadata": {
            "needs_background": "light"
          },
          "output_type": "display_data"
        }
      ]
    },
    {
      "cell_type": "markdown",
      "source": "##### Student's T Distribution",
      "metadata": {
        "id": "solar-cleaner",
        "cell_id": "00031-ba760e63-e2c8-4ffd-b9ef-8d97c3a0cb6b",
        "deepnote_cell_type": "markdown"
      }
    },
    {
      "cell_type": "markdown",
      "source": "",
      "metadata": {
        "id": "damaged-priority",
        "cell_id": "00032-4d34c398-bfdf-470c-b426-fdae09253df3",
        "deepnote_cell_type": "markdown"
      }
    },
    {
      "cell_type": "markdown",
      "source": "Kind: Continuous\n\nDescription: The student's t distribution comes from the probability of a sample mean being located a certain distance from the true population mean. It is mainly used in statistical tests, such as the t-test comparing means and confidence intervals on graphs.\n\nLink: https://docs.scipy.org/doc/scipy/reference/generated/scipy.stats.t.html\n",
      "metadata": {
        "id": "8E_zutFtSzOH",
        "cell_id": "00034-ce189fd4-b093-4b6a-8668-cf2d020f71d3",
        "deepnote_cell_type": "markdown"
      }
    },
    {
      "cell_type": "code",
      "source": "t= np.arange(-5,5,0.2)\ndf=3\nplt.plot(t,stats.t.pdf(t,df))",
      "metadata": {
        "tags": [],
        "cell_id": "00034-d0364a5c-8e83-4025-b6a2-07a8a8ecfd0b",
        "deepnote_to_be_reexecuted": false,
        "source_hash": "3a6116f0",
        "execution_millis": 129,
        "execution_start": 1616693039844,
        "deepnote_cell_type": "code"
      },
      "outputs": [
        {
          "output_type": "execute_result",
          "execution_count": 43,
          "data": {
            "text/plain": "[<matplotlib.lines.Line2D at 0x7fdd92c5be50>]"
          },
          "metadata": {}
        },
        {
          "data": {
            "text/plain": "<Figure size 432x288 with 1 Axes>",
            "image/png": "[encoded data removed]"
          },
          "metadata": {
            "needs_background": "light"
          },
          "output_type": "display_data"
        }
      ],
      "execution_count": 43
    },
    {
      "cell_type": "markdown",
      "source": "##### Chi-Squared Distribution",
      "metadata": {
        "id": "sharing-teach",
        "cell_id": "00035-fb3f7c69-1bae-44c0-82e0-24e3e4295039",
        "deepnote_cell_type": "markdown"
      }
    },
    {
      "cell_type": "markdown",
      "source": "Kind: Continuous\n\nDescription: An asymmetric distribution with non-negative values (starts at 0) that is right-skewed\n\nExample: See if there is a relationship between a voter's opinion on a new tax reform bill and their level of income.\n\nLink: https://docs.scipy.org/doc/scipy/reference/generated/scipy.stats.chisquare.html",
      "metadata": {
        "id": "balanced-discrimination",
        "cell_id": "00036-75aa9893-d2bf-44d3-ae4f-a55dc387a713",
        "deepnote_cell_type": "markdown"
      }
    },
    {
      "cell_type": "code",
      "metadata": {
        "id": "architectural-switzerland",
        "cell_id": "00037-cbdb66a7-0825-4910-9fe4-4da6cb19858c",
        "deepnote_to_be_reexecuted": false,
        "source_hash": "4828ffb0",
        "execution_millis": 149,
        "execution_start": 1616693423716,
        "deepnote_cell_type": "code"
      },
      "source": "df = 60 \nmean, var, skew, kurt = stats.chi2.stats(df, moments='mvsk')\nfig, ax = plt.subplots(1, 1)\nx = np.linspace(stats.chi2.ppf(0.05, df),\n                stats.chi2.ppf(0.95, df), 100)\nax.plot(x, stats.chi2.pdf(x, df),\n       'r-', lw=5, alpha=0.9, label='chi2 pdf')\n       ",
      "execution_count": 56,
      "outputs": [
        {
          "output_type": "execute_result",
          "execution_count": 56,
          "data": {
            "text/plain": "[<matplotlib.lines.Line2D at 0x7fdd941bbfd0>]"
          },
          "metadata": {}
        },
        {
          "data": {
            "text/plain": "<Figure size 432x288 with 1 Axes>",
            "image/png": "[encoded data removed]"
          },
          "metadata": {
            "needs_background": "light"
          },
          "output_type": "display_data"
        }
      ]
    },
    {
      "cell_type": "markdown",
      "source": "##### Exponential Distribution",
      "metadata": {
        "id": "affected-teddy",
        "cell_id": "00038-ba03580f-0484-499d-bbf9-7d1cd215759f",
        "deepnote_cell_type": "markdown"
      }
    },
    {
      "cell_type": "markdown",
      "source": "Kind: Continuous\n\nDescription: Deals with events that change rapidly in the beginning but then slow down as more time passes.\n\nExample: A news article that gets viewed while the topic is still fresh (or new, hence the name news, hah)\n\nLink: https://docs.scipy.org/doc/scipy/reference/generated/scipy.stats.expon.html",
      "metadata": {
        "id": "retained-probe",
        "cell_id": "00039-c796f528-5465-4977-b9e4-2b4bc4d09a86",
        "deepnote_cell_type": "markdown"
      }
    },
    {
      "cell_type": "code",
      "metadata": {
        "id": "frequent-bulgarian",
        "cell_id": "00040-0b19b191-29c0-47f0-a2a4-67d84fcd98b2",
        "deepnote_to_be_reexecuted": false,
        "source_hash": "ff74e7ed",
        "execution_start": 1616692808708,
        "execution_millis": 423,
        "deepnote_cell_type": "code"
      },
      "source": "exp_vars = stats.expon.rvs(0, 1, 5000)\nsns.displot(exp_vars)",
      "execution_count": 35,
      "outputs": [
        {
          "output_type": "execute_result",
          "execution_count": 35,
          "data": {
            "text/plain": "<seaborn.axisgrid.FacetGrid at 0x7fdd954f6c10>"
          },
          "metadata": {}
        },
        {
          "data": {
            "text/plain": "<Figure size 360x360 with 1 Axes>",
            "image/png": "[encoded data removed]"
          },
          "metadata": {
            "needs_background": "light"
          },
          "output_type": "display_data"
        }
      ]
    },
    {
      "cell_type": "markdown",
      "source": "##### Logistic Distribution",
      "metadata": {
        "id": "lovely-helena",
        "cell_id": "00041-d835da9a-a818-4734-8225-16c4944285c8",
        "deepnote_cell_type": "markdown"
      }
    },
    {
      "cell_type": "markdown",
      "source": "Kind: Continuous\n\nDescription: It is used to analyze future events and the cut-off point for an outcome that is successful.\n\nExample: In competitive Pokemon, players have an Elo rating based on how they are rated compared to other players. Their rating goes up with a win and down with a loss, with the magnitude of change dependent on the Elo score of the opposing player. \n\nLink: https://docs.scipy.org/doc/scipy/reference/generated/scipy.stats.logistic.html ",
      "metadata": {
        "id": "standard-surfing",
        "cell_id": "00042-23a91b55-4217-4781-8666-6dfb6646d35f",
        "deepnote_cell_type": "markdown"
      }
    },
    {
      "cell_type": "code",
      "metadata": {
        "id": "weekly-channels",
        "cell_id": "00043-d068c559-87d1-4bf0-9cff-2b518eb93a1e",
        "deepnote_to_be_reexecuted": false,
        "source_hash": "ed12acfe",
        "execution_millis": 122,
        "execution_start": 1616694287181,
        "deepnote_cell_type": "code"
      },
      "source": "fig, ax = plt.subplots(1, 1)\nmean, var, skew, kurt = stats.logistic.stats(moments='mvsk')\nx = np.linspace(stats.logistic.ppf(0.05),\n                stats.logistic.ppf(0.95), 50)\nax.plot(x, stats.logistic.pdf(x),\n       'r-', lw=5, alpha=0.6, label='logistic pdf')\nrv = stats.logistic()\nplt.show()",
      "execution_count": 85,
      "outputs": [
        {
          "data": {
            "text/plain": "<Figure size 432x288 with 1 Axes>",
            "image/png": "[encoded data removed]"
          },
          "metadata": {
            "needs_background": "light"
          },
          "output_type": "display_data"
        }
      ]
    },
    {
      "cell_type": "markdown",
      "source": "# Part 3) Summary Stats\n\nFor this section, you will need to use Google and ask questions.",
      "metadata": {
        "id": "neutral-helen",
        "cell_id": "00044-1756fbe3-a995-4190-b5d3-ffda3e9938ef",
        "deepnote_cell_type": "markdown"
      }
    },
    {
      "cell_type": "markdown",
      "source": "#### Q3.1)\nWhen should you use mean vs. median?",
      "metadata": {
        "id": "motivated-blink",
        "cell_id": "00045-33799294-d6b3-49a4-9785-72cd62a7da1b",
        "deepnote_cell_type": "markdown"
      }
    },
    {
      "cell_type": "markdown",
      "source": "The mean is generally the more preferred option, as it accounts for the values of all points in a set of data. But a median is preferred if the dataset has a blatant outlier or is skewed in one particular direction, as the median generally more accurately shows the central location of data points. ",
      "metadata": {
        "id": "legislative-distance",
        "cell_id": "00046-0a507e6a-5d5d-42e6-8e8d-09c914e0768f",
        "deepnote_cell_type": "markdown"
      }
    },
    {
      "cell_type": "markdown",
      "source": "#### Q3.2)\nWhat is the standard deviation and variance?",
      "metadata": {
        "id": "shaped-arbor",
        "cell_id": "00047-e52941df-bfab-4ea5-869a-669794920286",
        "deepnote_cell_type": "markdown"
      }
    },
    {
      "cell_type": "markdown",
      "source": "They measure how spread out the values of a given dataset is. The more spread out, the higher the standard deviation and variance. Standard deviation is the square root of variance. It is measured from how far each individual value is from the mean of those values.",
      "metadata": {
        "id": "distributed-colombia",
        "cell_id": "00048-768f729e-910e-4899-8c2e-e10b3f504dcd",
        "deepnote_cell_type": "markdown"
      }
    },
    {
      "cell_type": "markdown",
      "source": "#### Q3.3)\n\nDescribe the tradeoffs between providing the standard deviation/variance vs. the 5-number summary. ",
      "metadata": {
        "id": "insured-biodiversity",
        "cell_id": "00049-e6621772-a748-41dd-8186-3c0bb753e5e1",
        "deepnote_cell_type": "markdown"
      }
    },
    {
      "cell_type": "markdown",
      "source": "The SD/variance will tell how spread out the values are, relative to the mean, which gives some sense of how many values are where, but not exactly. The 5-number summary tells you what percent of numbers are within a certain range, but not how many times a specific value comes up. If you want to see how many students got an A, B, C, etc. on a test, then a 5-number summary can do that nicely. While the SD/variance will give you how spread out the grades on the test were, to indicate if everyone got a score around the mean or if some people got nearly perfect scores while some received poor scores (potentially very very poor scores).",
      "metadata": {
        "id": "downtown-sphere",
        "cell_id": "00050-47ab318c-4e67-404d-9d24-b725bcb71458",
        "deepnote_cell_type": "markdown"
      }
    },
    {
      "cell_type": "markdown",
      "source": "#### Q3.4)\n\nWhat is skew? Can a skewed dataset still be normally distributed?",
      "metadata": {
        "id": "painful-immigration",
        "cell_id": "00051-d8556d0c-ad73-48bc-a580-a85ebf15e499",
        "deepnote_cell_type": "markdown"
      }
    },
    {
      "cell_type": "markdown",
      "source": "Skew occurs when one tail is longer than the other on a graph, which happens when a smaller amount of values are spread out away from the mean (either far above or far below). The mean and median will be on the oppostide side of the skew, because most of the values are on that side, and there are less values on the skew side. No, it cannot be normal because a skew distribution is asymmetric, while a normal distribution must be symmetric.",
      "metadata": {
        "id": "binding-checkout",
        "cell_id": "00052-0b9ff162-6d63-4969-a926-1ec88841ce79",
        "deepnote_cell_type": "markdown"
      }
    },
    {
      "cell_type": "markdown",
      "source": "#### Q3.5)\nWhat is a frequency table? How is it useful for describing data?",
      "metadata": {
        "id": "successful-maker",
        "cell_id": "00053-d85a0970-fe81-4d8a-af85-0375b327f072",
        "deepnote_cell_type": "markdown"
      }
    },
    {
      "cell_type": "markdown",
      "source": "A frequency table lists each event along with how many times it occurs (the frequency). ",
      "metadata": {
        "tags": [],
        "cell_id": "00054-3815fa13-be3f-4f2d-bfee-ac1979112c5e",
        "deepnote_cell_type": "markdown"
      }
    },
    {
      "cell_type": "markdown",
      "source": "#### Q3.6)\n\nObserve the data shown below and classify each column shown below as either: nominal, binary, ordinal, or quantitative.",
      "metadata": {
        "id": "compact-harmony",
        "cell_id": "00055-f3ad7336-3d9f-4ad5-ad43-54895fb9c2eb",
        "deepnote_cell_type": "markdown"
      }
    },
    {
      "cell_type": "code",
      "metadata": {
        "id": "choice-scanner",
        "outputId": "d6dac72a-f7d4-431a-8921-cd8d76738340",
        "cell_id": "00056-c912117e-1ac8-4dc6-8407-b19034d41ae5",
        "deepnote_to_be_reexecuted": true,
        "source_hash": "636bb21f",
        "deepnote_cell_type": "code"
      },
      "source": "skyscrapers_full = pd.read_csv(\"https://corgis-edu.github.io/corgis/datasets/csv/skyscrapers/skyscrapers.csv\")\n# You can ignore how we calculate the fields, though it might help you understand it better\nskyscrapers_full['tall?'] = skyscrapers_full['statistics.height'] > 100\nskyscrapers_full['development.phase'] = skyscrapers_full['status.current'].map(lambda s: 3 if s in ('completed', 'demolished')\n                                                                                         else 1 if s in ('proposed', 'vision')\n                                                                                         else 2)\nskyscrapers = skyscrapers_full[['id', 'material', 'name', 'development.phase',\n                                'location.city', 'location.latitude', 'location.longitude',\n                                'statistics.height', 'tall?']]\nskyscrapers.head()",
      "execution_count": null,
      "outputs": [
        {
          "output_type": "execute_result",
          "data": {
            "text/html": "<div>\n<style scoped>\n    .dataframe tbody tr th:only-of-type {\n        vertical-align: middle;\n    }\n\n    .dataframe tbody tr th {\n        vertical-align: top;\n    }\n\n    .dataframe thead th {\n        text-align: right;\n    }\n</style>\n<table border=\"1\" class=\"dataframe\">\n  <thead>\n    <tr style=\"text-align: right;\">\n      <th></th>\n      <th>id</th>\n      <th>material</th>\n      <th>name</th>\n      <th>development.phase</th>\n      <th>location.city</th>\n      <th>location.latitude</th>\n      <th>location.longitude</th>\n      <th>statistics.height</th>\n      <th>tall?</th>\n    </tr>\n  </thead>\n  <tbody>\n    <tr>\n      <th>0</th>\n      <td>12</td>\n      <td>steel</td>\n      <td>The Illinois</td>\n      <td>1</td>\n      <td>Chicago</td>\n      <td>0.000000</td>\n      <td>0.000000</td>\n      <td>1609.359985</td>\n      <td>True</td>\n    </tr>\n    <tr>\n      <th>1</th>\n      <td>62</td>\n      <td>composite</td>\n      <td>Chicago Spire</td>\n      <td>2</td>\n      <td>Chicago</td>\n      <td>41.889889</td>\n      <td>-87.614861</td>\n      <td>609.599976</td>\n      <td>True</td>\n    </tr>\n    <tr>\n      <th>2</th>\n      <td>68</td>\n      <td>composite</td>\n      <td>Miglin-Beitler Skyneedle</td>\n      <td>1</td>\n      <td>Chicago</td>\n      <td>41.881618</td>\n      <td>-87.634354</td>\n      <td>609.489990</td>\n      <td>True</td>\n    </tr>\n    <tr>\n      <th>3</th>\n      <td>98</td>\n      <td>composite</td>\n      <td>One World Trade Center</td>\n      <td>3</td>\n      <td>New York City</td>\n      <td>40.713112</td>\n      <td>-74.013351</td>\n      <td>541.299988</td>\n      <td>True</td>\n    </tr>\n    <tr>\n      <th>4</th>\n      <td>14269</td>\n      <td>concrete</td>\n      <td>Central Park Tower</td>\n      <td>2</td>\n      <td>New York City</td>\n      <td>40.766361</td>\n      <td>-73.980949</td>\n      <td>541.020020</td>\n      <td>True</td>\n    </tr>\n  </tbody>\n</table>\n</div>",
            "text/plain": "      id   material                      name  development.phase  \\\n0     12      steel              The Illinois                  1   \n1     62  composite             Chicago Spire                  2   \n2     68  composite  Miglin-Beitler Skyneedle                  1   \n3     98  composite    One World Trade Center                  3   \n4  14269   concrete        Central Park Tower                  2   \n\n   location.city  location.latitude  location.longitude  statistics.height  \\\n0        Chicago           0.000000            0.000000        1609.359985   \n1        Chicago          41.889889          -87.614861         609.599976   \n2        Chicago          41.881618          -87.634354         609.489990   \n3  New York City          40.713112          -74.013351         541.299988   \n4  New York City          40.766361          -73.980949         541.020020   \n\n   tall?  \n0   True  \n1   True  \n2   True  \n3   True  \n4   True  "
          },
          "metadata": {
            "tags": []
          },
          "execution_count": 86
        }
      ]
    },
    {
      "cell_type": "markdown",
      "source": "* `id`: \n* `material`: \n* `name`: \n* `development.phase`: \n* `location.city`: \n* `location.latitude`: \n* `location.longitude`: \n* `statistics.height`: \n* `tall?`: ",
      "metadata": {
        "id": "favorite-device",
        "cell_id": "00057-a699527f-0a85-4c9e-ba74-8391a19230ed",
        "deepnote_cell_type": "markdown"
      }
    },
    {
      "cell_type": "markdown",
      "source": "#### Q3.7)\n\nFor each column in the dataset above, provide appropriate summary statistics in whatever way makes the most sense to concisely describe the data.",
      "metadata": {
        "id": "ahead-paradise",
        "cell_id": "00058-4a5b907d-4065-4612-8e65-cc5e5b248856",
        "deepnote_cell_type": "markdown"
      }
    },
    {
      "cell_type": "code",
      "metadata": {
        "id": "editorial-supplier",
        "outputId": "a0b2db87-2dec-4d41-a7e2-871abdf42733",
        "cell_id": "00059-41ad6043-9e4c-4544-894d-ad3a9febeb85",
        "deepnote_to_be_reexecuted": true,
        "source_hash": "ed04c557",
        "deepnote_cell_type": "code"
      },
      "source": "print(\"ID:\")\n\n\nprint(\"Material:\")\n\n\nprint(\"Name:\")\n\n\nprint(\"Development Phase:\")\n\n\nprint(\"Location (City):\")\n\n\nprint(\"Location (Latitude):\")\n\n\nprint(\"Location (Longitude):\")\n\n\nprint(\"Height:\")\n\n\nprint(\"Tall Buildings:\")",
      "execution_count": null,
      "outputs": [
        {
          "output_type": "stream",
          "text": "ID:\nMaterial:\nName:\nDevelopment Phase:\nLocation (City):\nLocation (Latitude):\nLocation (Longitude):\nHeight:\nTall Buildings:\n",
          "name": "stdout"
        }
      ]
    },
    {
      "cell_type": "markdown",
      "source": "#### Q3.8)\n\nClassify each of the following scenarios as \"paired\" or \"unpaired\" data.\n\n1. We draw two random samples from the complete set of skyscrapers. Both samples have 100 skyscrapers.",
      "metadata": {
        "id": "brazilian-roads",
        "cell_id": "00060-645995f5-be70-492f-9521-1d0a48c6a95a",
        "deepnote_cell_type": "markdown"
      }
    },
    {
      "cell_type": "markdown",
      "source": "",
      "metadata": {
        "id": "insured-letters",
        "cell_id": "00061-ec496b3a-58fc-46df-828d-eac6c6189387",
        "deepnote_cell_type": "markdown"
      }
    },
    {
      "cell_type": "markdown",
      "source": "2. We collect a new version of the dataset, updating the `\"development.phase\"` value in order to compare it to the old value.",
      "metadata": {
        "id": "traditional-brook",
        "cell_id": "00062-11f88a4f-5035-4b5b-85a2-e429b1e5fbd2",
        "deepnote_cell_type": "markdown"
      }
    },
    {
      "cell_type": "markdown",
      "source": "",
      "metadata": {
        "id": "successful-flooring",
        "cell_id": "00063-008b764d-07a4-4616-a102-4e4da72fda6f",
        "deepnote_cell_type": "markdown"
      }
    },
    {
      "cell_type": "markdown",
      "source": "3. We collect data about the architectures of each building, in order to see if there a relationship between the builder's age and the height of the building.",
      "metadata": {
        "id": "stretch-blind",
        "cell_id": "00064-70f44f4a-29c0-414e-abec-e9c98665c464",
        "deepnote_cell_type": "markdown"
      }
    },
    {
      "cell_type": "markdown",
      "source": "",
      "metadata": {
        "id": "behind-thousand",
        "cell_id": "00065-9ec4b00d-0ccd-4176-8fe0-eaff8a0611c3",
        "deepnote_cell_type": "markdown"
      }
    },
    {
      "cell_type": "markdown",
      "source": "# Part 4) Normality Checks",
      "metadata": {
        "id": "interior-lying",
        "cell_id": "00066-10ba00ee-d9fe-4728-9ae7-2860f54bfb7d",
        "deepnote_cell_type": "markdown"
      }
    },
    {
      "cell_type": "markdown",
      "source": "Read the following page about normality tests:\n\nhttps://machinelearningmastery.com/a-gentle-introduction-to-normality-tests-in-python/\n",
      "metadata": {
        "id": "american-moscow",
        "cell_id": "00067-77d8a407-619d-4d2d-897f-b6c5b117e5b1",
        "deepnote_cell_type": "markdown"
      }
    },
    {
      "cell_type": "markdown",
      "source": "#### Q4.1)\n\nSome skyscrapers are much taller than most skyscrapers. Demonstrate this by creating a Histogram of that data.",
      "metadata": {
        "id": "freelance-positive",
        "cell_id": "00068-07d26887-63f2-46e4-8a44-aba8a0c4b199",
        "deepnote_cell_type": "markdown"
      }
    },
    {
      "cell_type": "code",
      "metadata": {
        "id": "viral-thousand",
        "cell_id": "00069-2ac26863-dbdd-4509-bdde-4a5091b1926d",
        "deepnote_to_be_reexecuted": true,
        "source_hash": "8133963c",
        "deepnote_cell_type": "code"
      },
      "source": "skyscrapers['statistics.height']\n# ...",
      "execution_count": null,
      "outputs": []
    },
    {
      "cell_type": "markdown",
      "source": "#### Q4.2)\n\nLogarithmic transformations are often used in situations like this to make the visualizations easier to read.\nWhy?",
      "metadata": {
        "id": "exterior-tomato",
        "cell_id": "00070-3a84daeb-860a-4115-901b-faf260d50afb",
        "deepnote_cell_type": "markdown"
      }
    },
    {
      "cell_type": "markdown",
      "source": "",
      "metadata": {
        "id": "nearby-soldier",
        "cell_id": "00071-a2b42613-f6ce-455b-afb3-437ea21d5f91",
        "deepnote_cell_type": "markdown"
      }
    },
    {
      "cell_type": "markdown",
      "source": "#### Q4.3)\n\nCreate a new version of your visualization that is log transformed, by manipulating the data.\n\nHints:\n* You might find it helpful to increase the number of bins in the final version to produce a nicer looking graph.\n* Some of the data is dirty - remove zeroes!",
      "metadata": {
        "id": "adjustable-cover",
        "cell_id": "00072-9264c4d8-3e83-4fe5-9a16-07d0bcd4ef18",
        "deepnote_cell_type": "markdown"
      }
    },
    {
      "cell_type": "code",
      "metadata": {
        "id": "exact-discovery",
        "cell_id": "00073-5f50d094-e17a-4978-b0a5-cf69cbea1be3",
        "deepnote_to_be_reexecuted": true,
        "source_hash": "b623e53d",
        "deepnote_cell_type": "code"
      },
      "source": "",
      "execution_count": null,
      "outputs": []
    },
    {
      "cell_type": "markdown",
      "source": "#### Q4.4)\n\nWe wish to know if the data is now normally distributed. You can use a Shapiro Wilks test in `scipy.stats` to determine if a distribution is normal. This is demonstrated below.",
      "metadata": {
        "id": "quiet-patrick",
        "cell_id": "00074-00aae7bd-c63d-4f89-9641-5bc22fba76fe",
        "deepnote_cell_type": "markdown"
      }
    },
    {
      "cell_type": "code",
      "metadata": {
        "id": "blessed-aviation",
        "outputId": "f206ef30-4831-4c9c-b942-3c3e52ad6d0c",
        "cell_id": "00075-e504f82a-d76b-4af6-b02c-da8710110a84",
        "deepnote_to_be_reexecuted": true,
        "source_hash": "ee90849",
        "deepnote_cell_type": "code"
      },
      "source": "# Mean of 50, standard deviation of 10, create 100 numbers\nnormal_values = stats.norm.rvs(loc=50, scale=10, size=100)\nplt.hist(normal_values)\nplt.title(\"Normal Distribution with Mean of 50\")\nplt.ylabel(\"Frequency\")\nplt.show()\n\ntest_statistic, p_value = stats.shapiro(normal_values)\nprint(\"Normally Distributed Values:\", test_statistic, p_value, p_value < .05)\nprint(\"Since the pvalue is greater than 0.05, we accept the null hypothesis that it is normally distributed.\")\n\n# Mean of 50, standard deviation of 10, create 100 numbers\nnormal_values = stats.randint.rvs(low=0, high=100, size=100)\nplt.hist(normal_values)\nplt.title(\"Random Distribution\")\nplt.ylabel(\"Frequency\")\nplt.show()\n\ntest_statistic, p_value = stats.shapiro(normal_values)\nprint(\"Random Values:\", test_statistic, p_value, p_value < .05)\nprint(\"Since the pvalue is less than 0.05, we reject the null hypothesis that it is normally distributed.\")",
      "execution_count": null,
      "outputs": [
        {
          "output_type": "display_data",
          "data": {
            "image/png": "[encoded data removed]",
            "text/plain": "<Figure size 432x288 with 1 Axes>"
          },
          "metadata": {
            "tags": [],
            "needs_background": "light"
          }
        },
        {
          "output_type": "stream",
          "text": "Normally Distributed Values: 0.9873840808868408 0.4639612138271332 False\nSince the pvalue is greater than 0.05, we accept the null hypothesis that it is normally distributed.\n",
          "name": "stdout"
        },
        {
          "output_type": "display_data",
          "data": {
            "image/png": "[encoded data removed]",
            "text/plain": "<Figure size 432x288 with 1 Axes>"
          },
          "metadata": {
            "tags": [],
            "needs_background": "light"
          }
        },
        {
          "output_type": "stream",
          "text": "Random Values: 0.9455756545066833 0.0004289667122066021 True\nSince the pvalue is less than 0.05, we reject the null hypothesis that it is normally distributed.\n",
          "name": "stdout"
        }
      ]
    },
    {
      "cell_type": "markdown",
      "source": "Building off our example, determine if:\n\n1. The original untransformed heights follow a normal distribution.\n2. The log-transformed heights follow a normal distribution.\n\nBe sure to use an appropriate test.",
      "metadata": {
        "id": "ordinary-immigration",
        "cell_id": "00076-a1744ad4-f32e-4ebc-9389-1dd332aa27ac",
        "deepnote_cell_type": "markdown"
      }
    },
    {
      "cell_type": "code",
      "metadata": {
        "id": "indonesian-ideal",
        "cell_id": "00077-6b48035e-8286-4f6b-8258-8bc692e9b3c3",
        "deepnote_to_be_reexecuted": true,
        "source_hash": "b623e53d",
        "deepnote_cell_type": "code"
      },
      "source": "",
      "execution_count": null,
      "outputs": []
    },
    {
      "cell_type": "markdown",
      "source": "#### Q4.5)\n\nWould it be appropriate to use parameteric statistics on this data?",
      "metadata": {
        "id": "excess-spider",
        "cell_id": "00078-dac86029-8bde-4263-84e5-672f78d9dfb1",
        "deepnote_cell_type": "markdown"
      }
    },
    {
      "cell_type": "markdown",
      "source": "",
      "metadata": {
        "id": "encouraging-money",
        "cell_id": "00079-a772c628-59b4-4ab2-a25f-d9a1ca9dd153",
        "deepnote_cell_type": "markdown"
      }
    },
    {
      "cell_type": "markdown",
      "source": "# Part 5) Correlation Analysis\n\nRead over the following page: https://www.ncbi.nlm.nih.gov/pmc/articles/PMC2996580/",
      "metadata": {
        "id": "theoretical-court",
        "cell_id": "00080-67035f0e-66f8-4ede-a62e-1091c7625bad",
        "deepnote_cell_type": "markdown"
      }
    },
    {
      "cell_type": "markdown",
      "source": "#### Q5.1)\n\nIn your own words, define the following terms:\n\n1) Hypothesis",
      "metadata": {
        "id": "quality-chart",
        "cell_id": "00081-c45127b9-854e-4b6f-9123-a72d9c9d2139",
        "deepnote_cell_type": "markdown"
      }
    },
    {
      "cell_type": "markdown",
      "source": "",
      "metadata": {
        "id": "aging-apparel",
        "cell_id": "00082-d5626b26-79bc-4dd5-b607-c30968af87af",
        "deepnote_cell_type": "markdown"
      }
    },
    {
      "cell_type": "markdown",
      "source": "2) Hypothesis Test",
      "metadata": {
        "id": "developmental-emergency",
        "cell_id": "00083-398671ba-69a5-43fc-9bfd-eeff60d22222",
        "deepnote_cell_type": "markdown"
      }
    },
    {
      "cell_type": "markdown",
      "source": "",
      "metadata": {
        "id": "urban-reduction",
        "cell_id": "00084-adba2b22-d2f1-4b75-ab53-897559580f96",
        "deepnote_cell_type": "markdown"
      }
    },
    {
      "cell_type": "markdown",
      "source": "3) P-value",
      "metadata": {
        "id": "polish-corrections",
        "cell_id": "00085-04aa3de0-8faf-4610-91e5-76baaae110e9",
        "deepnote_cell_type": "markdown"
      }
    },
    {
      "cell_type": "markdown",
      "source": "",
      "metadata": {
        "id": "behind-speed",
        "cell_id": "00086-974937a7-c29c-46aa-b534-8f0588d29552",
        "deepnote_cell_type": "markdown"
      }
    },
    {
      "cell_type": "markdown",
      "source": "4) Null Hypothesis",
      "metadata": {
        "id": "powerful-reaction",
        "cell_id": "00087-c4b2b990-2cd8-420a-9083-fbbe9e02a2f2",
        "deepnote_cell_type": "markdown"
      }
    },
    {
      "cell_type": "markdown",
      "source": "",
      "metadata": {
        "id": "controlled-republic",
        "cell_id": "00088-33781693-1a3f-4341-ac3b-311d7820cdef",
        "deepnote_cell_type": "markdown"
      }
    },
    {
      "cell_type": "markdown",
      "source": "5. \"Approaching Significance\" (read over [this webpage](https://mchankins.wordpress.com/2013/04/21/still-not-significant-2/))",
      "metadata": {
        "id": "surface-recommendation",
        "cell_id": "00089-05369405-e46e-40f4-833a-009eaef5415c",
        "deepnote_cell_type": "markdown"
      }
    },
    {
      "cell_type": "markdown",
      "source": "",
      "metadata": {
        "id": "human-little",
        "cell_id": "00090-826fd75e-769d-43a0-a172-1505ab19eca7",
        "deepnote_cell_type": "markdown"
      }
    },
    {
      "cell_type": "markdown",
      "source": "#### Q5.2)\n\nMake a list of all the criteria you should consider when choosing an appropriate statistical test.\nAdditionally, embed a flowchart that can help visually demonstrate the critiera you should use.",
      "metadata": {
        "id": "architectural-factory",
        "cell_id": "00091-50ca6ab7-5630-47f7-9423-f72a652cb874",
        "deepnote_cell_type": "markdown"
      }
    },
    {
      "cell_type": "markdown",
      "source": "1. \n2.\n3.\n\n...",
      "metadata": {
        "id": "chubby-spokesman",
        "cell_id": "00092-91ac6d02-5dac-4ba3-91a1-18e202c7c1fc",
        "deepnote_cell_type": "markdown"
      }
    },
    {
      "cell_type": "markdown",
      "source": "#### Q5.3)\n\nFor each of the following statistical test functions from `scipy`, provide the following information:\n\n* Function: The name of the function in Scipy\n* Link: The URL to the documentation of the test.\n* Test: A more human-readable name of the test\n* Description: A quick one-sentence description of the test indicating clearly what it is used for\n* Assumptions: A list of any assumptions made by the test.\n* Example: An example of how you might use this test",
      "metadata": {
        "id": "dietary-opinion",
        "cell_id": "00093-1462b366-8307-4ec2-a63b-2ead7737fdc4",
        "deepnote_cell_type": "markdown"
      }
    },
    {
      "cell_type": "markdown",
      "source": "##### f_oneway\n\n* Function: `f_oneway`\n* Link: https://docs.scipy.org/doc/scipy/reference/generated/scipy.stats.f_oneway.html\n* Test: One-way ANOVA\n* Description: A parametric test for 2+ independent samples to determine if they have the same population mean. \n* Assumptions:\n    * Samples must be independent\n    * Population is normally distributed\n    * Populations' standard deviations are equal\n* Example: Take a big group of students, break them up by gender, and see if their heights differ by gender.",
      "metadata": {
        "id": "moderate-policy",
        "cell_id": "00094-732bde3d-b4ec-4468-98f6-ede57d4d7165",
        "deepnote_cell_type": "markdown"
      }
    },
    {
      "cell_type": "markdown",
      "source": "##### pearsonr\n\n* Function:\n* Link:\n* Test:\n* Description:\n* Assumptions:\n* Example:",
      "metadata": {
        "id": "irish-instrument",
        "cell_id": "00095-8994fcd1-6fcf-44b6-9f7b-8461bf2af344",
        "deepnote_cell_type": "markdown"
      }
    },
    {
      "cell_type": "markdown",
      "source": "##### spearmanr\n\n* Function:\n* Link:\n* Test:\n* Description:\n* Assumptions:\n* Example:",
      "metadata": {
        "id": "exceptional-glucose",
        "cell_id": "00096-877066bc-ce22-4330-8693-9d70b79dbf2e",
        "deepnote_cell_type": "markdown"
      }
    },
    {
      "cell_type": "markdown",
      "source": "##### pointbiseralr\n\n* Function:\n* Link:\n* Test:\n* Description:\n* Assumptions:\n* Example:",
      "metadata": {
        "id": "decreased-pressure",
        "cell_id": "00097-006e6f6b-0c04-4804-8583-f4384763c435",
        "deepnote_cell_type": "markdown"
      }
    },
    {
      "cell_type": "markdown",
      "source": "##### kendalltau\n\n* Function:\n* Link:\n* Test:\n* Description:\n* Assumptions:\n* Example:",
      "metadata": {
        "id": "controlling-balloon",
        "cell_id": "00098-515cd3cd-f36c-489e-94e5-5223c9d86858",
        "deepnote_cell_type": "markdown"
      }
    },
    {
      "cell_type": "markdown",
      "source": "##### ttest_1samp\n\n* Function:\n* Link:\n* Test:\n* Description:\n* Assumptions:\n* Example:",
      "metadata": {
        "id": "adequate-necklace",
        "cell_id": "00099-7c510ef3-36c2-486a-9909-67c3928f4cbe",
        "deepnote_cell_type": "markdown"
      }
    },
    {
      "cell_type": "markdown",
      "source": "##### ttest_ind\n\n* Function:\n* Link:\n* Test:\n* Description:\n* Assumptions:\n* Example:",
      "metadata": {
        "id": "behavioral-milwaukee",
        "cell_id": "00100-00759a98-6e09-498b-a4d2-281ddb5d7aa3",
        "deepnote_cell_type": "markdown"
      }
    },
    {
      "cell_type": "markdown",
      "source": "##### ttest_rel\n\n* Function:\n* Link:\n* Test:\n* Description:\n* Assumptions:\n* Example:",
      "metadata": {
        "id": "municipal-stanford",
        "cell_id": "00101-4655c0ea-80a1-4d63-bd77-05a868b3dd78",
        "deepnote_cell_type": "markdown"
      }
    },
    {
      "cell_type": "markdown",
      "source": "##### chisquare\n\n* Function:\n* Link:\n* Test:\n* Description:\n* Assumptions:\n* Example:",
      "metadata": {
        "id": "operating-birth",
        "cell_id": "00102-bdae590b-72d3-4db7-8e73-3a8f42926a5b",
        "deepnote_cell_type": "markdown"
      }
    },
    {
      "cell_type": "markdown",
      "source": "##### mannwhitneyu\n\n* Function:\n* Link:\n* Test:\n* Description:\n* Assumptions:\n* Example:",
      "metadata": {
        "id": "presidential-block",
        "cell_id": "00103-3b966cea-b147-4fd0-90e9-1dea70aa6ab4",
        "deepnote_cell_type": "markdown"
      }
    },
    {
      "cell_type": "markdown",
      "source": "##### kstest\n\n* Function:\n* Link:\n* Test:\n* Description:\n* Assumptions:\n* Example:",
      "metadata": {
        "id": "dress-finger",
        "cell_id": "00104-f8df761f-331a-4216-8789-39e29523ecd0",
        "deepnote_cell_type": "markdown"
      }
    },
    {
      "cell_type": "markdown",
      "source": "##### wilcoxon\n\n* Function:\n* Link:\n* Test:\n* Description:\n* Assumptions:\n* Example:",
      "metadata": {
        "id": "instant-mongolia",
        "cell_id": "00105-251917a6-eef6-4b8d-a296-875da3deb9b8",
        "deepnote_cell_type": "markdown"
      }
    },
    {
      "cell_type": "markdown",
      "source": "##### kruskal\n\n* Function:\n* Link:\n* Test:\n* Description:\n* Assumptions:\n* Example:",
      "metadata": {
        "id": "quality-motor",
        "cell_id": "00106-8d462e6d-2317-4a88-886d-9374b35ef7f9",
        "deepnote_cell_type": "markdown"
      }
    },
    {
      "cell_type": "markdown",
      "source": "#### Q5.4)",
      "metadata": {
        "id": "offshore-church",
        "cell_id": "00107-1ee2b80f-dbcf-4aac-adf5-b81f8ef4b203",
        "deepnote_cell_type": "markdown"
      }
    },
    {
      "cell_type": "markdown",
      "source": "For each scenario below, identify what test you might choose.\n\n1. If we wished to test whether there was any association between Gender and uptake of Flu vaccination which would be the best test to choose?",
      "metadata": {
        "id": "exterior-dylan",
        "cell_id": "00108-a417fc55-bc2f-41c3-bca7-0673aed9baa7",
        "deepnote_cell_type": "markdown"
      }
    },
    {
      "cell_type": "markdown",
      "source": "",
      "metadata": {
        "id": "separate-romania",
        "cell_id": "00109-45b7b405-d854-4573-bfbc-087b5b8c6067",
        "deepnote_cell_type": "markdown"
      }
    },
    {
      "cell_type": "markdown",
      "source": "2. If we wished to test if there was a difference between the gestational age of babies at birth (how far along the pregnancy is, in weeks) and the use of a nutritional supplement by their mothers during pregnancy which would be the best test to choose?",
      "metadata": {
        "id": "finnish-guard",
        "cell_id": "00110-094dc67a-7632-4743-996c-596b898d4bdb",
        "deepnote_cell_type": "markdown"
      }
    },
    {
      "cell_type": "markdown",
      "source": "",
      "metadata": {
        "id": "initial-optimization",
        "cell_id": "00111-0b64b889-a8fb-43a4-8fc2-da005f378826",
        "deepnote_cell_type": "markdown"
      }
    },
    {
      "cell_type": "markdown",
      "source": "3. The cotinine level was measured in women at the beginning and end of their pregnancy. The change in cotinine was presented on a Log scale. Which would be the best test to use to see if there had been a change in cotinine level during pregnancy?",
      "metadata": {
        "id": "victorian-interpretation",
        "cell_id": "00112-2a5c7833-449e-4e2c-8a62-20a27e511bb0",
        "deepnote_cell_type": "markdown"
      }
    },
    {
      "cell_type": "markdown",
      "source": "",
      "metadata": {
        "id": "neural-denial",
        "cell_id": "00113-dbb946e5-6f13-481d-b03e-6bb1a51d97c1",
        "deepnote_cell_type": "markdown"
      }
    },
    {
      "cell_type": "markdown",
      "source": "4. If we wished to estimate the strength of the linear relationship between the weight of a mother and the weight of her baby at birth which would be the best test to choose?",
      "metadata": {
        "id": "minimal-postcard",
        "cell_id": "00114-96e3f82b-069a-4115-8c01-74cb6b75d4c8",
        "deepnote_cell_type": "markdown"
      }
    },
    {
      "cell_type": "markdown",
      "source": "",
      "metadata": {
        "id": "generic-celebrity",
        "cell_id": "00115-8e1d5c49-349e-4eec-a868-67eddbc57be6",
        "deepnote_cell_type": "markdown"
      }
    },
    {
      "cell_type": "markdown",
      "source": "5. The pre-operative and post-operative anxiety levels of adolescent patients undergoing orthopaedic surgery were measured using the State-Trait Anxiety Inventory STAI scale. The authors reported the pre-operative anxiety levels as mean = 33.8 (SD = 5.1) and post-operative anxiety levels as mean = 38.8 (SD = 7.2). They also performed a Shapiro-Wilks Test demonstrating that the data is normal. Which would have been the most appropriate test to assess the relationship between pre and post operative anxiety?",
      "metadata": {
        "id": "scheduled-appeal",
        "cell_id": "00116-ce4ccc86-ae99-4348-86c3-7f1923239235",
        "deepnote_cell_type": "markdown"
      }
    },
    {
      "cell_type": "markdown",
      "source": "",
      "metadata": {
        "id": "champion-sensitivity",
        "cell_id": "00117-ef0c30d3-c23f-4851-bc4e-95b9262cf9f3",
        "deepnote_cell_type": "markdown"
      }
    },
    {
      "cell_type": "markdown",
      "source": "6. Salaries in the United States are heavily skewed. If you were investigating salaries between Software Engineers and non-Software Engineers, which test would be most appropriate?",
      "metadata": {
        "id": "treated-bottle",
        "cell_id": "00118-dbbae47e-acdc-4cde-b0f2-db5db4b72a2d",
        "deepnote_cell_type": "markdown"
      }
    },
    {
      "cell_type": "markdown",
      "source": "",
      "metadata": {
        "id": "specialized-disability",
        "cell_id": "00119-600a8f84-c1f6-406d-bccc-bbdee59847d1",
        "deepnote_cell_type": "markdown"
      }
    },
    {
      "cell_type": "markdown",
      "source": "7. As previously mentioned, salaries in the United States are heavily skewed. You conduct a survey of 100 folks (selected completely at random from the US), asking their salary and their \"satisfaction their salary\" with the possible responses \"Very Happy\", \"Happy\", \"Neutral\", \"Unhappy\", and \"Very Unhappy\". What test could you use to determine the relationship between these two values?",
      "metadata": {
        "id": "thirty-effort",
        "cell_id": "00120-e4be04b8-5111-4917-94ee-196eec617c8b",
        "deepnote_cell_type": "markdown"
      }
    },
    {
      "cell_type": "markdown",
      "source": "",
      "metadata": {
        "id": "joint-underground",
        "cell_id": "00121-044df653-e46a-42f5-91c9-6d40f37f9039",
        "deepnote_cell_type": "markdown"
      }
    },
    {
      "cell_type": "markdown",
      "source": "8. It is 2022, and the revolution has begun. It is chaos in the streets, and societal upheaval is everywhere. Strangely, you are more interested in doing data science, and are now investigating whether salaries are still skewed. You go back to the 100 folks you talked to previously, and ask them for their new salary data. What test can help you determine if there is a change?",
      "metadata": {
        "id": "parliamentary-smith",
        "cell_id": "00122-9ed43e5b-172a-4c5c-8358-aed08fd6f4f4",
        "deepnote_cell_type": "markdown"
      }
    },
    {
      "cell_type": "markdown",
      "source": "",
      "metadata": {
        "id": "dynamic-mason",
        "cell_id": "00123-5e8fb007-5a7e-4cb6-8b24-02f996cf3504",
        "deepnote_cell_type": "markdown"
      }
    },
    {
      "cell_type": "markdown",
      "source": "#### Q5.5)\n\nRecall the skyscrapers data we looked at before.",
      "metadata": {
        "id": "becoming-sixth",
        "cell_id": "00124-955342ce-7643-41e8-a291-9d577fcdb229",
        "deepnote_cell_type": "markdown"
      }
    },
    {
      "cell_type": "code",
      "metadata": {
        "id": "pleasant-bahamas",
        "outputId": "2ad52a3a-98f0-4d47-e092-49eba39b8823",
        "cell_id": "00125-ea04f471-69a7-4d9b-afea-0da80ca829e5",
        "deepnote_to_be_reexecuted": true,
        "source_hash": "cd00f44b",
        "deepnote_cell_type": "code"
      },
      "source": "skyscrapers.head()",
      "execution_count": null,
      "outputs": [
        {
          "output_type": "execute_result",
          "data": {
            "text/html": "<div>\n<style scoped>\n    .dataframe tbody tr th:only-of-type {\n        vertical-align: middle;\n    }\n\n    .dataframe tbody tr th {\n        vertical-align: top;\n    }\n\n    .dataframe thead th {\n        text-align: right;\n    }\n</style>\n<table border=\"1\" class=\"dataframe\">\n  <thead>\n    <tr style=\"text-align: right;\">\n      <th></th>\n      <th>id</th>\n      <th>material</th>\n      <th>name</th>\n      <th>development.phase</th>\n      <th>location.city</th>\n      <th>location.latitude</th>\n      <th>location.longitude</th>\n      <th>statistics.height</th>\n      <th>tall?</th>\n    </tr>\n  </thead>\n  <tbody>\n    <tr>\n      <th>0</th>\n      <td>12</td>\n      <td>steel</td>\n      <td>The Illinois</td>\n      <td>1</td>\n      <td>Chicago</td>\n      <td>0.000000</td>\n      <td>0.000000</td>\n      <td>1609.359985</td>\n      <td>True</td>\n    </tr>\n    <tr>\n      <th>1</th>\n      <td>62</td>\n      <td>composite</td>\n      <td>Chicago Spire</td>\n      <td>2</td>\n      <td>Chicago</td>\n      <td>41.889889</td>\n      <td>-87.614861</td>\n      <td>609.599976</td>\n      <td>True</td>\n    </tr>\n    <tr>\n      <th>2</th>\n      <td>68</td>\n      <td>composite</td>\n      <td>Miglin-Beitler Skyneedle</td>\n      <td>1</td>\n      <td>Chicago</td>\n      <td>41.881618</td>\n      <td>-87.634354</td>\n      <td>609.489990</td>\n      <td>True</td>\n    </tr>\n    <tr>\n      <th>3</th>\n      <td>98</td>\n      <td>composite</td>\n      <td>One World Trade Center</td>\n      <td>3</td>\n      <td>New York City</td>\n      <td>40.713112</td>\n      <td>-74.013351</td>\n      <td>541.299988</td>\n      <td>True</td>\n    </tr>\n    <tr>\n      <th>4</th>\n      <td>14269</td>\n      <td>concrete</td>\n      <td>Central Park Tower</td>\n      <td>2</td>\n      <td>New York City</td>\n      <td>40.766361</td>\n      <td>-73.980949</td>\n      <td>541.020020</td>\n      <td>True</td>\n    </tr>\n  </tbody>\n</table>\n</div>",
            "text/plain": "      id   material                      name  development.phase  \\\n0     12      steel              The Illinois                  1   \n1     62  composite             Chicago Spire                  2   \n2     68  composite  Miglin-Beitler Skyneedle                  1   \n3     98  composite    One World Trade Center                  3   \n4  14269   concrete        Central Park Tower                  2   \n\n   location.city  location.latitude  location.longitude  statistics.height  \\\n0        Chicago           0.000000            0.000000        1609.359985   \n1        Chicago          41.889889          -87.614861         609.599976   \n2        Chicago          41.881618          -87.634354         609.489990   \n3  New York City          40.713112          -74.013351         541.299988   \n4  New York City          40.766361          -73.980949         541.020020   \n\n   tall?  \n0   True  \n1   True  \n2   True  \n3   True  \n4   True  "
          },
          "metadata": {
            "tags": []
          },
          "execution_count": 150
        }
      ]
    },
    {
      "cell_type": "markdown",
      "source": "Is there a relationship between a Skyscrapers latitude and height?",
      "metadata": {
        "id": "satisfactory-priest",
        "cell_id": "00126-96fa24cb-0a2b-4856-9f22-d312e542ed45",
        "deepnote_cell_type": "markdown"
      }
    },
    {
      "cell_type": "code",
      "metadata": {
        "id": "weighted-instruction",
        "cell_id": "00127-1f7752cd-8fe0-4893-bb49-59e54f1b66ff",
        "deepnote_to_be_reexecuted": true,
        "source_hash": "b623e53d",
        "deepnote_cell_type": "code"
      },
      "source": "",
      "execution_count": null,
      "outputs": []
    },
    {
      "cell_type": "markdown",
      "source": "Are `New York City` skyscrapers bigger than `Chicago` skyscrapers?",
      "metadata": {
        "id": "answering-cricket",
        "cell_id": "00128-4b68cd8c-4585-4db7-a6a5-256855319334",
        "deepnote_cell_type": "markdown"
      }
    },
    {
      "cell_type": "code",
      "metadata": {
        "id": "massive-holder",
        "cell_id": "00129-6b2e84e1-95e9-47f2-a8d9-15809b9cb932",
        "deepnote_to_be_reexecuted": true,
        "source_hash": "b623e53d",
        "deepnote_cell_type": "code"
      },
      "source": "",
      "execution_count": null,
      "outputs": []
    },
    {
      "cell_type": "markdown",
      "source": "In the dataset, completed skyscrapers are phase 3, in-progress skyscrapers are phase 2, and not-started skyscrapers are phase 1.\nConsidering only skyscrapers made with concrete and steel, is there a difference in the distribution of the different development phases between the two materials? ",
      "metadata": {
        "id": "engaged-showcase",
        "cell_id": "00130-4a2fef15-ba77-418c-872d-9cd82b7a7a4b",
        "deepnote_cell_type": "markdown"
      }
    },
    {
      "cell_type": "code",
      "metadata": {
        "id": "simplified-infrastructure",
        "outputId": "1ac3b492-cb21-4935-dac4-8d8b81f914cf",
        "cell_id": "00131-858f4c9c-15fe-46f9-b066-b6507d34121d",
        "deepnote_to_be_reexecuted": true,
        "source_hash": "b623e53d",
        "deepnote_cell_type": "code"
      },
      "source": "",
      "execution_count": null,
      "outputs": [
        {
          "output_type": "execute_result",
          "data": {
            "text/html": "<div>\n<style scoped>\n    .dataframe tbody tr th:only-of-type {\n        vertical-align: middle;\n    }\n\n    .dataframe tbody tr th {\n        vertical-align: top;\n    }\n\n    .dataframe thead th {\n        text-align: right;\n    }\n</style>\n<table border=\"1\" class=\"dataframe\">\n  <thead>\n    <tr style=\"text-align: right;\">\n      <th>development.phase</th>\n      <th>1</th>\n      <th>2</th>\n      <th>3</th>\n    </tr>\n    <tr>\n      <th>material</th>\n      <th></th>\n      <th></th>\n      <th></th>\n    </tr>\n  </thead>\n  <tbody>\n    <tr>\n      <th>concrete</th>\n      <td>99</td>\n      <td>162</td>\n      <td>1105</td>\n    </tr>\n    <tr>\n      <th>steel</th>\n      <td>9</td>\n      <td>10</td>\n      <td>856</td>\n    </tr>\n  </tbody>\n</table>\n</div>",
            "text/plain": "development.phase   1    2     3\nmaterial                        \nconcrete           99  162  1105\nsteel               9   10   856"
          },
          "metadata": {
            "tags": []
          },
          "execution_count": 157
        }
      ]
    },
    {
      "cell_type": "markdown",
      "source": "# Part 6) Effect Sizes\n\nWatch the videos, and answer the questions.\n\nhttps://youtu.be/PyNzbDbjs1Y",
      "metadata": {
        "id": "authorized-disposition",
        "cell_id": "00132-6f121d41-6f19-42e1-bee1-d29348272b6d",
        "deepnote_cell_type": "markdown"
      }
    },
    {
      "cell_type": "markdown",
      "source": "#### Q6.1)\n\nWhy is it important to present p-values AND effect sizes?",
      "metadata": {
        "id": "specified-isolation",
        "cell_id": "00133-2f0478b3-231c-4229-bdbe-ed60bb7774f2",
        "deepnote_cell_type": "markdown"
      }
    },
    {
      "cell_type": "markdown",
      "source": "",
      "metadata": {
        "id": "exact-insured",
        "cell_id": "00134-e0d60af2-84a6-499d-b7cb-f2fa3e81f502",
        "deepnote_cell_type": "markdown"
      }
    },
    {
      "cell_type": "markdown",
      "source": "#### Q6.2)\n\nThe video briefly suggests some ways to calculate effect size. For each of the following, give a brief explanation:\n",
      "metadata": {
        "id": "disturbed-alignment",
        "cell_id": "00135-61db2e09-8eb7-496b-b7b6-9a437a45e8a6",
        "deepnote_cell_type": "markdown"
      }
    },
    {
      "cell_type": "markdown",
      "source": "* Pearson Correlation: \n* R Squared: \n* Cohen's d Effect Size: \n* Eta Squared:\n* Odds Ratio:",
      "metadata": {
        "id": "twenty-methodology",
        "cell_id": "00136-67760049-b47d-4a97-8b3d-25e8937145ae",
        "deepnote_cell_type": "markdown"
      }
    },
    {
      "cell_type": "markdown",
      "source": "#### Q6.3)\n\nWatch the following video, then answer the question below.\n\nhttps://youtu.be/6uYNVCy-8NA",
      "metadata": {
        "id": "assured-lightweight",
        "cell_id": "00137-0e0a6818-14d6-4a8f-925c-a89fddae69e6",
        "deepnote_cell_type": "markdown"
      }
    },
    {
      "cell_type": "markdown",
      "source": "In the video, the speaker suggests concrete ways to interpret effect sizes. However, Cohen warned about turning effect size numbers into ideas of \"small\", \"medium\", and \"large\". What is dangerous about interpreting effect size values?",
      "metadata": {
        "id": "smart-quality",
        "cell_id": "00138-e3b24763-b490-4a05-a52c-13859eb0f97e",
        "deepnote_cell_type": "markdown"
      }
    },
    {
      "cell_type": "markdown",
      "source": "",
      "metadata": {
        "id": "activated-armstrong",
        "cell_id": "00139-a8bb8817-dc79-4360-8153-cc89506063c2",
        "deepnote_cell_type": "markdown"
      }
    },
    {
      "cell_type": "markdown",
      "source": "#### Q6.4)\n\nYour arch-nemesis stands up and reports, \"In our study, we found a significant difference between the control group and the treatment group. Clearly, my research team deserves more funding.\" You raise your hand to ask a question - what do you ask?",
      "metadata": {
        "id": "above-bennett",
        "cell_id": "00140-22e33701-e366-409d-8e89-21a2f588f03e",
        "deepnote_cell_type": "markdown"
      }
    },
    {
      "cell_type": "markdown",
      "source": "",
      "metadata": {
        "id": "static-skating",
        "cell_id": "00141-3639e43d-632f-457f-89c6-7ad4a7463653",
        "deepnote_cell_type": "markdown"
      }
    },
    {
      "cell_type": "markdown",
      "source": "#### Q6.5)\n\nPreviously, you were asked to calculate whether there was a significant difference between `New York City` and `Chicago` skyscrapers. Now provide a measure of effect size to fully characterize their difference.",
      "metadata": {
        "id": "durable-reynolds",
        "cell_id": "00142-2586905a-624f-4103-b067-740be037703b",
        "deepnote_cell_type": "markdown"
      }
    },
    {
      "cell_type": "code",
      "metadata": {
        "id": "modular-pennsylvania",
        "cell_id": "00143-ae270eae-c03b-4ab6-bdc6-9ea9631a27f8",
        "deepnote_to_be_reexecuted": true,
        "source_hash": "b623e53d",
        "deepnote_cell_type": "code"
      },
      "source": "",
      "execution_count": null,
      "outputs": []
    },
    {
      "cell_type": "markdown",
      "source": "Sources used: \n\nhttps://calcworkshop.com/hypothesis-test/chi-square-test/#:~:text=Real%20Life%20Examples&text=We%20can%20apply%20a%20chi,to%20a%20litter%20of%20kittens.\n\nhttps://statistics.laerd.com/statistical-guides/measures-central-tendency-mean-mode-median.php#:~:text=When%20you%20have%20a%20normally,your%20measure%20of%20central%20tendency.&text=The%20more%20skewed%20the%20distribution,as%20opposed%20to%20the%20mean.",
      "metadata": {
        "tags": [],
        "cell_id": "00143-d1b79d57-184d-40c5-adf2-060332532a5f",
        "deepnote_cell_type": "markdown"
      }
    },
    {
      "cell_type": "markdown",
      "source": "",
      "metadata": {
        "tags": [],
        "cell_id": "00144-7115a2f2-d13b-4eb2-84a9-cd86fb529abd",
        "deepnote_cell_type": "markdown"
      }
    },
    {
      "cell_type": "markdown",
      "source": "<a style='text-decoration:none;line-height:16px;display:flex;color:#5B5B62;padding:10px;justify-content:end;' href='https://deepnote.com?utm_source=created-in-deepnote-cell&projectId=f177530e-5031-4fbf-a1bb-d98989b1bb48' target=\"_blank\">\n<img style='display:inline;max-height:16px;margin:0px;margin-right:7.5px;' src='data:image/svg+xml;base64,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' > </img>\nCreated in <span style='font-weight:600;margin-left:4px;'>Deepnote</span></a>",
      "metadata": {
        "tags": [],
        "created_in_deepnote_cell": true,
        "deepnote_cell_type": "markdown"
      }
    }
  ],
  "nbformat": 4,
  "nbformat_minor": 5,
  "metadata": {
    "kernelspec": {
      "display_name": "Python 3",
      "language": "python",
      "name": "python3"
    },
    "language_info": {
      "codemirror_mode": {
        "name": "ipython",
        "version": 3
      },
      "file_extension": ".py",
      "mimetype": "text/x-python",
      "name": "python",
      "nbconvert_exporter": "python",
      "pygments_lexer": "ipython3",
      "version": "3.9.1"
    },
    "colab": {
      "name": "Drive Statistics Workbook.ipynb",
      "provenance": [],
      "collapsed_sections": [
        "motivated-blink",
        "shaped-arbor",
        "insured-biodiversity",
        "painful-immigration",
        "successful-maker",
        "compact-harmony",
        "ahead-paradise",
        "brazilian-roads",
        "freelance-positive",
        "exterior-tomato",
        "adjustable-cover",
        "quiet-patrick",
        "excess-spider",
        "quality-chart",
        "architectural-factory",
        "dietary-opinion",
        "offshore-church",
        "becoming-sixth",
        "specified-isolation",
        "disturbed-alignment",
        "assured-lightweight",
        "above-bennett",
        "durable-reynolds"
      ]
    },
    "deepnote_notebook_id": "f95ea79d-2dfd-496c-be29-ae7692e49945",
    "deepnote": {},
    "deepnote_execution_queue": []
  }
}